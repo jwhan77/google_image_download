{
 "cells": [
  {
   "cell_type": "code",
   "execution_count": 20,
   "metadata": {},
   "outputs": [],
   "source": [
    "from urllib.request import urlretrieve\n",
    "from bs4 import BeautifulSoup\n",
    "from selenium import webdriver\n",
    "import time"
   ]
  },
  {
   "cell_type": "markdown",
   "metadata": {},
   "source": [
    "<h2>저화질</h2>"
   ]
  },
  {
   "cell_type": "code",
   "execution_count": 19,
   "metadata": {
    "scrolled": true
   },
   "outputs": [
    {
     "name": "stdout",
     "output_type": "stream",
     "text": [
      "[]\n",
      "[]\n",
      "0\n"
     ]
    }
   ],
   "source": [
    "# keyword = input('keyword : ')\n",
    "url = 'https://www.google.com/search?q=earthquake+images&source=lnms&tbm=isch&sa=X&ved=2ahUKEwidyPvJ5d3rAhWZbN4KHQpdCZAQ_AUoAXoECA0QAw&biw=768&bih=752'\n",
    "\n",
    "driver = webdriver.Chrome()\n",
    "driver.get(url)\n",
    "\n",
    "html = driver.page_source\n",
    "soup = BeautifulSoup(html, \"lxml\")\n",
    "\n",
    "img = soup.select('.rg_i.Q4LuWd') #저화질\n",
    "\n",
    "imgUrl = []\n",
    "\n",
    "print(img)\n",
    "for i in img:\n",
    "    print(i)\n",
    "    try:\n",
    "        imgUrl.append(i.attrs[\"src\"])\n",
    "    except KeyError:\n",
    "        imgUrl.append(i.attrs[\"data-src\"])\n",
    "\n",
    "print(imgUrl)\n",
    "        \n",
    "count = 0\n",
    "        \n",
    "for i in imgUrl:\n",
    "    urlretrieve(i, \"images/\"+ str(count) + \".jpg\")\n",
    "    count += 1\n",
    "\n",
    "print(count)\n",
    "    \n",
    "driver.close()"
   ]
  },
  {
   "cell_type": "markdown",
   "metadata": {},
   "source": [
    "-----"
   ]
  },
  {
   "cell_type": "markdown",
   "metadata": {},
   "source": [
    "<h2>최종</h2>"
   ]
  },
  {
   "cell_type": "code",
   "execution_count": null,
   "metadata": {},
   "outputs": [],
   "source": [
    "url = 'https://www.google.com/search?q=earthquake+images&source=lnms&tbm=isch&sa=X&ved=2ahUKEwidyPvJ5d3rAhWZbN4KHQpdCZAQ_AUoAXoECA0QAw&biw=768&bih=752'\n",
    "\n",
    "driver = webdriver.Chrome()\n",
    "driver.get(url)\n",
    "\n",
    "for i in range(10):\n",
    "    driver.execute_script(\"window.scrollBy(0, 10000)\")\n",
    "\n",
    "html = driver.page_source\n",
    "soup = BeautifulSoup(html, \"lxml\")\n",
    "\n",
    "imgDivList = soup.select('.isv-r.PNCib.MSM1fd.BUooTd')\n",
    "\n",
    "imgDataIdList = []\n",
    "\n",
    "for imgDiv in imgDivList:\n",
    "    try:\n",
    "        imgDataIdList.append(imgDiv.attrs[\"data-id\"])\n",
    "    except KeyError:\n",
    "        print('error')\n",
    "\n",
    "imgUrlList = []\n",
    "\n",
    "limit = 0\n",
    "\n",
    "for imgDataId in imgDataIdList:\n",
    "    imgUrl = url + \"#imgrc=\" + imgDataId\n",
    "    driver.get(imgUrl)\n",
    "    time.sleep(2)\n",
    "    imgHtml = driver.page_source\n",
    "    imgSoup = BeautifulSoup(imgHtml, \"lxml\")\n",
    "    bigImgDiv = imgSoup.select('.n3VNCb')\n",
    "    try:\n",
    "        for b in bigImgDiv:\n",
    "            src = b.attrs[\"src\"]\n",
    "            if src[:4] == \"http\":\n",
    "                imgUrlList.append(src)\n",
    "    except KeyError:\n",
    "        print('error')\n",
    "        \n",
    "    if limit >= 100:\n",
    "        break\n",
    "        \n",
    "    limit += 1\n",
    "    time.sleep(1)\n",
    "    \n",
    "print(limit)\n",
    "    \n",
    "count = 0\n",
    "        \n",
    "for imgUrl in imgUrlList:\n",
    "    try:\n",
    "        urlretrieve(imgUrl, \"images/\"+ str(count) + \".jpg\")\n",
    "        count += 1\n",
    "        time.sleep(1)\n",
    "    except:\n",
    "        print(\"error\" + i)\n",
    "    \n",
    "print(count)\n",
    "    \n",
    "driver.close()"
   ]
  },
  {
   "cell_type": "markdown",
   "metadata": {},
   "source": [
    "----"
   ]
  },
  {
   "cell_type": "code",
   "execution_count": 55,
   "metadata": {},
   "outputs": [],
   "source": [
    "driver = webdriver.Chrome()\n",
    "\n",
    "imgUrlList = []\n",
    "\n",
    "limit = 0\n",
    "\n",
    "for imgDataId in imgDataIdList:\n",
    "    imgUrl = url + \"#imgrc=\" + imgDataId\n",
    "    driver.get(imgUrl)\n",
    "    time.sleep(2)\n",
    "    imgHtml = driver.page_source\n",
    "    imgSoup = BeautifulSoup(imgHtml, \"lxml\")\n",
    "    bigImgDiv = imgSoup.select('.n3VNCb')\n",
    "    try:\n",
    "        for b in bigImgDiv:\n",
    "            src = b.attrs[\"src\"]\n",
    "            if src[:4] == \"http\":\n",
    "                imgUrlList.append(src)\n",
    "    except KeyError:\n",
    "        print('error')\n",
    "        \n",
    "    if limit >= 20:\n",
    "        break\n",
    "        \n",
    "    limit += 1\n",
    "    time.sleep(1)\n",
    "\n",
    "driver.close()"
   ]
  },
  {
   "cell_type": "code",
   "execution_count": null,
   "metadata": {},
   "outputs": [],
   "source": [
    "count = 0\n",
    "        \n",
    "for imgUrl in imgUrlList:\n",
    "    try:\n",
    "        urlretrieve(imgUrl, \"images/\"+ str(count) + \".jpg\")\n",
    "        count += 1\n",
    "        time.sleep(1)\n",
    "    except:\n",
    "        print(\"error\" + imgUrl)"
   ]
  },
  {
   "cell_type": "markdown",
   "metadata": {},
   "source": [
    "----"
   ]
  },
  {
   "cell_type": "code",
   "execution_count": 72,
   "metadata": {},
   "outputs": [],
   "source": [
    "url = 'https://www.google.com/search?q=earthquake&source=lnms&tbm=isch&sa=X&ved=2ahUKEwjv9oDj_N3rAhWP7GEKHQlsA3cQ_AUoAXoECBcQAw&biw=768&bih=752'\n",
    "\n",
    "driver = webdriver.Chrome()\n",
    "driver.get(url)\n",
    "\n",
    "for i in range(1000):\n",
    "    driver.execute_script(\"window.scrollBy(0, 10000)\")\n",
    "\n",
    "html = driver.page_source\n",
    "soup = BeautifulSoup(html, \"lxml\")\n",
    "\n",
    "imgDivList = soup.select('.isv-r.PNCib.MSM1fd.BUooTd')\n",
    "\n",
    "imgDataIdList = []\n",
    "\n",
    "for imgDiv in imgDivList:\n",
    "    try:\n",
    "        imgDataIdList.append(imgDiv.attrs[\"data-id\"])\n",
    "    except KeyError:\n",
    "        print('error')"
   ]
  },
  {
   "cell_type": "code",
   "execution_count": 73,
   "metadata": {},
   "outputs": [],
   "source": [
    "for i in range(1000):\n",
    "    driver.execute_script(\"window.scrollBy(0, 10000)\")"
   ]
  },
  {
   "cell_type": "code",
   "execution_count": 74,
   "metadata": {},
   "outputs": [],
   "source": [
    "html = driver.page_source\n",
    "soup = BeautifulSoup(html, \"lxml\")\n",
    "\n",
    "imgDivList = soup.select('.isv-r.PNCib.MSM1fd.BUooTd')\n",
    "\n",
    "imgDataIdList = []\n",
    "\n",
    "for imgDiv in imgDivList:\n",
    "    try:\n",
    "        imgDataIdList.append(imgDiv.attrs[\"data-id\"])\n",
    "    except KeyError:\n",
    "        print('error')"
   ]
  },
  {
   "cell_type": "code",
   "execution_count": 75,
   "metadata": {},
   "outputs": [
    {
     "data": {
      "text/plain": [
       "750"
      ]
     },
     "execution_count": 75,
     "metadata": {},
     "output_type": "execute_result"
    }
   ],
   "source": [
    "len(imgDivList)"
   ]
  }
 ],
 "metadata": {
  "kernelspec": {
   "display_name": "Python 3",
   "language": "python",
   "name": "python3"
  },
  "language_info": {
   "codemirror_mode": {
    "name": "ipython",
    "version": 3
   },
   "file_extension": ".py",
   "mimetype": "text/x-python",
   "name": "python",
   "nbconvert_exporter": "python",
   "pygments_lexer": "ipython3",
   "version": "3.5.5"
  }
 },
 "nbformat": 4,
 "nbformat_minor": 2
}
