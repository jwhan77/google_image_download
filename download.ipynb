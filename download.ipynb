{
 "cells": [
  {
   "cell_type": "code",
   "execution_count": null,
   "metadata": {},
   "outputs": [],
   "source": [
    "from urllib.request import urlretrieve\n",
    "from bs4 import BeautifulSoup\n",
    "from selenium import webdriver\n",
    "import time"
   ]
  },
  {
   "cell_type": "code",
   "execution_count": null,
   "metadata": {},
   "outputs": [],
   "source": [
    "keyword = input('')\n",
    "\n",
    "# search anything in google images and copy the url\n",
    "# replace the url with yours and change keyword from string to variable like as below\n",
    "url = 'https://www.google.com/search?q=' + keyword + '&source='"
   ]
  },
  {
   "cell_type": "code",
   "execution_count": null,
   "metadata": {},
   "outputs": [],
   "source": [
    "driver = webdriver.Chrome()\n",
    "driver.get(url)\n",
    "\n",
    "for i in range(100000):\n",
    "    driver.execute_script(\"window.scrollBy(0, 10000)\")\n",
    "\n",
    "html = driver.page_source\n",
    "soup = BeautifulSoup(html, \"lxml\")\n",
    "\n",
    "imgDivList = soup.select('.isv-r.PNCib.MSM1fd.BUooTd')\n",
    "\n",
    "imgDataIdList = []\n",
    "\n",
    "for imgDiv in imgDivList:\n",
    "    try:\n",
    "        imgDataIdList.append(imgDiv.attrs[\"data-id\"])\n",
    "    except KeyError:\n",
    "        print('error')\n",
    "\n",
    "imgUrlList = []\n",
    "\n",
    "limit = 0\n",
    "\n",
    "for imgDataId in imgDataIdList:\n",
    "    imgUrl = url + \"#imgrc=\" + imgDataId\n",
    "    driver.get(imgUrl)\n",
    "    time.sleep(2)\n",
    "    imgHtml = driver.page_source\n",
    "    imgSoup = BeautifulSoup(imgHtml, \"lxml\")\n",
    "    bigImgDiv = imgSoup.select('.n3VNCb')\n",
    "    try:\n",
    "        for b in bigImgDiv:\n",
    "            src = b.attrs[\"src\"]\n",
    "            if src[:4] == \"http\":\n",
    "                imgUrlList.append(src)\n",
    "    except KeyError:\n",
    "        print('error')\n",
    "        \n",
    "    if limit >= 100:\n",
    "        break\n",
    "        \n",
    "    limit += 1\n",
    "    time.sleep(1)\n",
    "    \n",
    "print(limit)\n",
    "    \n",
    "count = 0\n",
    "        \n",
    "for imgUrl in imgUrlList:\n",
    "    try:\n",
    "        urlretrieve(imgUrl, \"images/\"+ str(count) + \".jpg\")\n",
    "        count += 1\n",
    "        time.sleep(1)\n",
    "    except:\n",
    "        print(\"error\" + i)\n",
    "    \n",
    "print(count)\n",
    "    \n",
    "driver.close()"
   ]
  }
 ],
 "metadata": {
  "kernelspec": {
   "display_name": "Python 3",
   "language": "python",
   "name": "python3"
  },
  "language_info": {
   "codemirror_mode": {
    "name": "ipython",
    "version": 3
   },
   "file_extension": ".py",
   "mimetype": "text/x-python",
   "name": "python",
   "nbconvert_exporter": "python",
   "pygments_lexer": "ipython3",
   "version": "3.7.6"
  }
 },
 "nbformat": 4,
 "nbformat_minor": 2
}
